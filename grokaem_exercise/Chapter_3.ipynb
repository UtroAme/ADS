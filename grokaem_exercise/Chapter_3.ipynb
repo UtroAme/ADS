{
 "cells": [
  {
   "cell_type": "markdown",
   "id": "9ca597e3",
   "metadata": {},
   "source": [
    "нацелена на проверку всех коробок. пока куча коробок не пуста,взять очередную коробку и проверить ее содержимое\n"
   ]
  },
  {
   "cell_type": "code",
   "execution_count": 1,
   "id": "10f8a9bb",
   "metadata": {},
   "outputs": [],
   "source": [
    "def look_for_key(main_box):\n",
    "    pile = main_box.make_a_pile_to_look_through()\n",
    "    while pile: #проверка на пустоту\n",
    "        box = pile.grab_a_box()\n",
    "        for item in box:\n",
    "            if item.is_a_box():\n",
    "                pile.append(item)\n",
    "            elif item.is_a_key():\n",
    "                print (\"Found the key!\")"
   ]
  },
  {
   "cell_type": "code",
   "execution_count": null,
   "id": "199a8cf8",
   "metadata": {},
   "outputs": [],
   "source": [
    "#та же проблема только с рекурсией \n",
    "def look_for_key(box):\n",
    "    for item in box:\n",
    "        if item.is_a_key():\n",
    "            look_for_key(item)\n",
    "        elif item.is_a_key():\n",
    "            print (\"Found the key!\")"
   ]
  },
  {
   "cell_type": "markdown",
   "id": "316506ed",
   "metadata": {},
   "source": [
    "для остановки бесконечной рекурсии Ctrl+C"
   ]
  }
 ],
 "metadata": {
  "kernelspec": {
   "display_name": "Python 3",
   "language": "python",
   "name": "python3"
  },
  "language_info": {
   "codemirror_mode": {
    "name": "ipython",
    "version": 3
   },
   "file_extension": ".py",
   "mimetype": "text/x-python",
   "name": "python",
   "nbconvert_exporter": "python",
   "pygments_lexer": "ipython3",
   "version": "3.13.1"
  }
 },
 "nbformat": 4,
 "nbformat_minor": 5
}
